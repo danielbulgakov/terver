{
 "cells": [
  {
   "cell_type": "markdown",
   "source": [
    "Тестовое задание со слайдов 22-25"
   ],
   "metadata": {
    "collapsed": false
   },
   "id": "985b6c2d6d844616"
  },
  {
   "cell_type": "code",
   "outputs": [
    {
     "name": "stdout",
     "output_type": "stream",
     "text": [
      "Кол-во листов = 2\n",
      "Кол-во строк = 104\n",
      "Кол-во столбцов = 3\n"
     ]
    }
   ],
   "source": [
    "import xlrd\n",
    "\n",
    "book = xlrd.open_workbook_xls('./data/lab1/01_Образование_организации_02.xls')\n",
    "\n",
    "sheet = book.sheet_by_name('Отчет')\n",
    "\n",
    "num_rows = sheet.nrows\n",
    "num_cols = sheet.ncols\n",
    "\n",
    "print(f'Кол-во листов = {book.nsheets}')\n",
    "print(f'Кол-во строк = {num_rows}')\n",
    "print(f'Кол-во столбцов = {num_cols}')"
   ],
   "metadata": {
    "collapsed": false,
    "ExecuteTime": {
     "end_time": "2024-02-18T21:01:12.024785313Z",
     "start_time": "2024-02-18T21:01:11.981857515Z"
    }
   },
   "id": "842cfdc47a5a3bb5",
   "execution_count": 62
  },
  {
   "cell_type": "code",
   "outputs": [
    {
     "name": "stdout",
     "output_type": "stream",
     "text": [
      "[2017 2017 2017 2017 2017 2017 2017 2017 2017 2017 2017 2017 2017 2016\n",
      " 2017 2017 2017 2017 2017 2017 2017 2016 2017 2017 2017 2017 2017 2017\n",
      " 2017 2017 2017 2017 2017 2017 2017 2017 2017 2017 2017 2017 2017 2017\n",
      " 2017 2017 2017 2017 2016 2017 2017 2017 2017 2017 2017 2017 2017 2017\n",
      " 2017 2017 2017 2017 2017 2017 2017 2017 2017 2017 2017 2016 2017 2017\n",
      " 2017 2017 2017 2017 2017 2017 2017 2017 2017 2017 2017 2017 2017 2017\n",
      " 2017 2017 2016]\n"
     ]
    }
   ],
   "source": [
    "import numpy as np\n",
    "\n",
    "regionCount = []\n",
    "\n",
    "for i in range(num_rows - 4):\n",
    "    if (sheet.cell(i + 4, 0).value.find('федеральный округ') == -1):\n",
    "        regionCount.append(sheet.row_values(i + 4, 1, 4))\n",
    "        \n",
    "yearMax = 2016 + np.argmax(regionCount, axis=1)\n",
    "print(yearMax)"
   ],
   "metadata": {
    "collapsed": false,
    "ExecuteTime": {
     "end_time": "2024-02-18T21:00:16.500208974Z",
     "start_time": "2024-02-18T21:00:16.491826030Z"
    }
   },
   "id": "edcbd91f7060dd94",
   "execution_count": 60
  },
  {
   "cell_type": "markdown",
   "source": [
    "Решение Лабораторной работы №1"
   ],
   "metadata": {
    "collapsed": false
   },
   "id": "a71919271c9ce197"
  },
  {
   "cell_type": "code",
   "outputs": [],
   "source": [
    "from collections import Counter\n",
    "import xlrd\n",
    "\n",
    "min_year = 2015\n",
    "year_range = 4\n",
    "\n",
    "# A, B\n",
    "def update_dictionary_from_excel(dict, file_path):\n",
    "    workbook = xlrd.open_workbook(file_path)\n",
    "    sheet = workbook.sheet_by_name('Отчет')\n",
    "    \n",
    "    # ['', '2016 г.', '2017 г.'] -> [None, 2016, 2017]\n",
    "    years = [int(year.replace('г.', '')) if year else None for year in sheet.row_values(1)]\n",
    "    \n",
    "    for row in range(2, sheet.nrows):\n",
    "        region = str(sheet.cell(row, 0).value)\n",
    "        if region != \"Российская Федерация\" and \"федеральный округ\" not in region:\n",
    "            if region not in dict:\n",
    "                dict[region] = [None] * year_range\n",
    "            \n",
    "            for column in range(1, sheet.ncols):\n",
    "                value = sheet.cell(row, column).value or None\n",
    "                dict[region][years[column] - min_year] = int(value) if value else None         \n",
    "            \n",
    "        \n",
    "data_dictionary = {} # Словарь с данными        \n",
    "\n",
    "update_dictionary_from_excel(data_dictionary, './data/lab1/01_Образование_организации_01.xls') \n",
    "update_dictionary_from_excel(data_dictionary, './data/lab1/01_Образование_организации_02.xls')\n",
    "\n",
    "# print(data_dictionary)\n",
    "\n",
    "# С\n",
    "\n",
    "for region, data in data_dictionary.items():\n",
    "    clean_data = [x for x in data if x is not None]\n",
    "    if len(clean_data) == 0: \n",
    "        average = None\n",
    "        max_year = None\n",
    "    else:\n",
    "        average = sum(clean_data) / len(clean_data)\n",
    "        max_year = data.index(max(clean_data)) + min_year\n",
    "        \n",
    "    data_dictionary[region].append(int(average))\n",
    "    data_dictionary[region].append(int(max_year))\n",
    "    \n",
    "# print(data_dictionary)\n",
    "\n",
    "# D\n",
    "\n",
    "all_years = [region_data[5] for region_data in data_dictionary.values()]\n",
    "years_counter = Counter(all_years)\n",
    "\n",
    "# print(years_counter)\n",
    "\n",
    "# E\n",
    "sorted_data = dict(sorted(data_dictionary.items(), key=lambda item: item[1][4]))\n",
    "# print(sorted_data)"
   ],
   "metadata": {
    "collapsed": false,
    "ExecuteTime": {
     "end_time": "2024-02-18T21:06:24.321297129Z",
     "start_time": "2024-02-18T21:06:24.312612085Z"
    }
   },
   "id": "9d52edc8aa3c81a7",
   "execution_count": 70
  }
 ],
 "metadata": {
  "kernelspec": {
   "display_name": "Python 3",
   "language": "python",
   "name": "python3"
  },
  "language_info": {
   "codemirror_mode": {
    "name": "ipython",
    "version": 2
   },
   "file_extension": ".py",
   "mimetype": "text/x-python",
   "name": "python",
   "nbconvert_exporter": "python",
   "pygments_lexer": "ipython2",
   "version": "2.7.6"
  }
 },
 "nbformat": 4,
 "nbformat_minor": 5
}
